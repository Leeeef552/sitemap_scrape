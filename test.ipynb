{
 "cells": [
  {
   "cell_type": "code",
   "execution_count": 7,
   "id": "3e7fce07",
   "metadata": {},
   "outputs": [
    {
     "name": "stdout",
     "output_type": "stream",
     "text": [
      "Total URL lines in directory: 1182\n",
      "Average error rate for each file: 9.380952380952381\n"
     ]
    }
   ],
   "source": [
    "import glob\n",
    "\n",
    "# Define your directory\n",
    "fil_dir = \"/home/leeeefun681/volume/eefun/webscraping/sitemap/sitemap_scrape/data/straits_times/unsuccessful\"\n",
    "\n",
    "# Use glob to find all .txt files in the directory\n",
    "txt_files = glob.glob(f\"{fil_dir}/*.jsonl\")\n",
    "\n",
    "# Initialize a counter\n",
    "total_lines = 0\n",
    "\n",
    "# Loop through each file and count lines\n",
    "for file_path in txt_files:\n",
    "    with open(file_path, 'r', encoding='utf-8') as f:\n",
    "        lines = f.readlines()\n",
    "        total_lines += len(lines)\n",
    "\n",
    "print(f\"Total URL lines in directory: {total_lines}\")\n",
    "print(f\"Average error rate for each file: {total_lines/len(txt_files)}\")\n"
   ]
  },
  {
   "cell_type": "code",
   "execution_count": null,
   "id": "239bf867",
   "metadata": {},
   "outputs": [],
   "source": []
  },
  {
   "cell_type": "code",
   "execution_count": null,
   "id": "93af792a",
   "metadata": {},
   "outputs": [],
   "source": []
  }
 ],
 "metadata": {
  "kernelspec": {
   "display_name": "Python 3 (ipykernel)",
   "language": "python",
   "name": "python3"
  },
  "language_info": {
   "codemirror_mode": {
    "name": "ipython",
    "version": 3
   },
   "file_extension": ".py",
   "mimetype": "text/x-python",
   "name": "python",
   "nbconvert_exporter": "python",
   "pygments_lexer": "ipython3",
   "version": "3.10.12"
  }
 },
 "nbformat": 4,
 "nbformat_minor": 5
}
