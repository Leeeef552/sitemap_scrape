{
 "cells": [
  {
   "cell_type": "code",
   "execution_count": 17,
   "id": "3e7fce07",
   "metadata": {},
   "outputs": [
    {
     "name": "stdout",
     "output_type": "stream",
     "text": [
      "Total URL lines in directory: 163\n",
      "Average error rate for each file: 1.147887323943662\n"
     ]
    }
   ],
   "source": [
    "import glob\n",
    "\n",
    "# Define your directory\n",
    "fil_dir = \"/home/leeeefun681/volume/eefun/webscraping/sitemap/sitemap_scrape/data/business_times/unsuccessful\"\n",
    "\n",
    "# Use glob to find all .txt files in the directory\n",
    "txt_files = glob.glob(f\"{fil_dir}/*.jsonl\")\n",
    "\n",
    "# Initialize a counter\n",
    "total_lines = 0\n",
    "\n",
    "# Loop through each file and count lines\n",
    "for file_path in txt_files:\n",
    "    with open(file_path, 'r', encoding='utf-8') as f:\n",
    "        lines = f.readlines()\n",
    "        total_lines += len(lines)\n",
    "\n",
    "print(f\"Total URL lines in directory: {total_lines}\")\n",
    "print(f\"Average error rate for each file: {total_lines/len(txt_files)}\")\n"
   ]
  },
  {
   "cell_type": "code",
   "execution_count": 12,
   "id": "e18ebeb0",
   "metadata": {},
   "outputs": [
    {
     "name": "stdout",
     "output_type": "stream",
     "text": [
      "Total images across all files: 278246\n"
     ]
    }
   ],
   "source": [
    "import glob\n",
    "import json\n",
    "\n",
    "# directory containing your .jsonl files\n",
    "fil_dir = \"/home/leeeefun681/volume/eefun/webscraping/sitemap/sitemap_scrape/data/business_times/scraped\"\n",
    "\n",
    "# grab all .jsonl paths\n",
    "jsonl_files = glob.glob(f\"{fil_dir}/*.jsonl\")\n",
    "\n",
    "total_images = 0\n",
    "for file_path in jsonl_files:\n",
    "    with open(file_path, 'r', encoding='utf-8') as f:\n",
    "        for line in f:\n",
    "            try:\n",
    "                obj = json.loads(line)\n",
    "            except json.JSONDecodeError:\n",
    "                # skip any malformed lines\n",
    "                continue\n",
    "            imgs = obj.get(\"images\", [])\n",
    "            # make sure it's a list\n",
    "            if isinstance(imgs, list):\n",
    "                total_images += len(imgs)\n",
    "\n",
    "print(f\"Total images across all files: {total_images}\")\n"
   ]
  },
  {
   "cell_type": "code",
   "execution_count": 13,
   "id": "239bf867",
   "metadata": {},
   "outputs": [
    {
     "name": "stdout",
     "output_type": "stream",
     "text": [
      "Total images across all files: 1742061\n"
     ]
    }
   ],
   "source": [
    "import glob\n",
    "import json\n",
    "\n",
    "# directory containing your .jsonl files\n",
    "fil_dir = \"/home/leeeefun681/volume/eefun/webscraping/sitemap/sitemap_scrape/data/straits_times/scraped\"\n",
    "\n",
    "# grab all .jsonl paths\n",
    "jsonl_files = glob.glob(f\"{fil_dir}/*.jsonl\")\n",
    "\n",
    "total_images = 0\n",
    "for file_path in jsonl_files:\n",
    "    with open(file_path, 'r', encoding='utf-8') as f:\n",
    "        for line in f:\n",
    "            try:\n",
    "                obj = json.loads(line)\n",
    "            except json.JSONDecodeError:\n",
    "                # skip any malformed lines\n",
    "                continue\n",
    "            imgs = obj.get(\"images\", [])\n",
    "            # make sure it's a list\n",
    "            if isinstance(imgs, list):\n",
    "                total_images += len(imgs)\n",
    "\n",
    "print(f\"Total images across all files: {total_images}\")\n"
   ]
  }
 ],
 "metadata": {
  "kernelspec": {
   "display_name": "Python 3 (ipykernel)",
   "language": "python",
   "name": "python3"
  },
  "language_info": {
   "codemirror_mode": {
    "name": "ipython",
    "version": 3
   },
   "file_extension": ".py",
   "mimetype": "text/x-python",
   "name": "python",
   "nbconvert_exporter": "python",
   "pygments_lexer": "ipython3",
   "version": "3.10.12"
  }
 },
 "nbformat": 4,
 "nbformat_minor": 5
}
