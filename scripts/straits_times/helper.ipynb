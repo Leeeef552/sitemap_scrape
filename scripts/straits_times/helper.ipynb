{
 "cells": [
  {
   "cell_type": "code",
   "execution_count": null,
   "id": "c768ebad",
   "metadata": {},
   "outputs": [],
   "source": [
    "from pathlib import Path\n",
    "import requests\n",
    "from bs4 import BeautifulSoup"
   ]
  },
  {
   "cell_type": "markdown",
   "id": "4a202502",
   "metadata": {},
   "source": [
    "## ST count number of url links within one xml-url "
   ]
  },
  {
   "cell_type": "code",
   "execution_count": null,
   "id": "88ad5c04",
   "metadata": {},
   "outputs": [],
   "source": [
    "def fetch_sitemap_bs4(year: int, month: int, *, timeout=15) -> list[str]:\n",
    "    #   Pull <loc> links from https://www.straitstimes.com/sitemap/{year}/{month}/feeds.xml\n",
    "    url = f\"https://www.straitstimes.com/sitemap/{year}/{month:02d}/feeds.xml\"\n",
    "    r = requests.get(url, timeout=timeout)\n",
    "    r.raise_for_status()\n",
    "\n",
    "    soup = BeautifulSoup(r.content, \"xml\")   # 'xml' parser ≈ lxml-xml fallback to xml.etree\n",
    "    return [tag.get_text(strip=True) for tag in soup.find_all(\"loc\")]\n",
    "\n",
    "# ⚠️ avoid CURRENT month (incomplete)\n",
    "urls = fetch_sitemap_bs4(2015, 3)          \n",
    "print(f\"\\nTotal URLs: {len(urls)}\")\n",
    "print(\"First :\", urls[0])\n",
    "print(\"Last  :\", urls[-1])"
   ]
  }
 ],
 "metadata": {
  "language_info": {
   "name": "python"
  }
 },
 "nbformat": 4,
 "nbformat_minor": 5
}
